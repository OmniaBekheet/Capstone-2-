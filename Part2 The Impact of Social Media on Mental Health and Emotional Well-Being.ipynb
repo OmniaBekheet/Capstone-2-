{
 "cells": [
  {
   "cell_type": "markdown",
   "id": "05d9694a",
   "metadata": {},
   "source": [
    "#Part 2: Kaggle Social Media and Mental Health Dataset: Suitable for clustering analysis to differentiate user profiles based on mental health indicators."
   ]
  },
  {
   "cell_type": "code",
   "execution_count": 1,
   "id": "3f13b1a5",
   "metadata": {},
   "outputs": [],
   "source": [
    "# Import necessary libraries\n",
    "import pandas as pd\n",
    "import numpy as np\n",
    "import matplotlib.pyplot as plt\n",
    "import seaborn as sns\n",
    "from sklearn.preprocessing import LabelEncoder\n",
    "from sklearn.preprocessing import StandardScaler\n",
    "from sklearn.preprocessing import StandardScaler\n",
    "from sklearn.cluster import KMeans\n"
   ]
  },
  {
   "cell_type": "code",
   "execution_count": 2,
   "id": "a28b7c15",
   "metadata": {
    "scrolled": true
   },
   "outputs": [
    {
     "data": {
      "text/html": [
       "<div>\n",
       "<style scoped>\n",
       "    .dataframe tbody tr th:only-of-type {\n",
       "        vertical-align: middle;\n",
       "    }\n",
       "\n",
       "    .dataframe tbody tr th {\n",
       "        vertical-align: top;\n",
       "    }\n",
       "\n",
       "    .dataframe thead th {\n",
       "        text-align: right;\n",
       "    }\n",
       "</style>\n",
       "<table border=\"1\" class=\"dataframe\">\n",
       "  <thead>\n",
       "    <tr style=\"text-align: right;\">\n",
       "      <th></th>\n",
       "      <th>Timestamp</th>\n",
       "      <th>1. What is your age?</th>\n",
       "      <th>2. Gender</th>\n",
       "      <th>3. Relationship Status</th>\n",
       "      <th>4. Occupation Status</th>\n",
       "      <th>5. What type of organizations are you affiliated with?</th>\n",
       "      <th>6. Do you use social media?</th>\n",
       "      <th>7. What social media platforms do you commonly use?</th>\n",
       "      <th>8. What is the average time you spend on social media every day?</th>\n",
       "      <th>9. How often do you find yourself using Social media without a specific purpose?</th>\n",
       "      <th>...</th>\n",
       "      <th>11. Do you feel restless if you haven't used Social media in a while?</th>\n",
       "      <th>12. On a scale of 1 to 5, how easily distracted are you?</th>\n",
       "      <th>13. On a scale of 1 to 5, how much are you bothered by worries?</th>\n",
       "      <th>14. Do you find it difficult to concentrate on things?</th>\n",
       "      <th>15. On a scale of 1-5, how often do you compare yourself to other successful people through the use of social media?</th>\n",
       "      <th>16. Following the previous question, how do you feel about these comparisons, generally speaking?</th>\n",
       "      <th>17. How often do you look to seek validation from features of social media?</th>\n",
       "      <th>18. How often do you feel depressed or down?</th>\n",
       "      <th>19. On a scale of 1 to 5, how frequently does your interest in daily activities fluctuate?</th>\n",
       "      <th>20. On a scale of 1 to 5, how often do you face issues regarding sleep?</th>\n",
       "    </tr>\n",
       "  </thead>\n",
       "  <tbody>\n",
       "    <tr>\n",
       "      <th>0</th>\n",
       "      <td>4/18/2022 19:18:47</td>\n",
       "      <td>21.0</td>\n",
       "      <td>Male</td>\n",
       "      <td>In a relationship</td>\n",
       "      <td>University Student</td>\n",
       "      <td>University</td>\n",
       "      <td>Yes</td>\n",
       "      <td>Facebook, Twitter, Instagram, YouTube, Discord...</td>\n",
       "      <td>Between 2 and 3 hours</td>\n",
       "      <td>5</td>\n",
       "      <td>...</td>\n",
       "      <td>2</td>\n",
       "      <td>5</td>\n",
       "      <td>2</td>\n",
       "      <td>5</td>\n",
       "      <td>2</td>\n",
       "      <td>3</td>\n",
       "      <td>2</td>\n",
       "      <td>5</td>\n",
       "      <td>4</td>\n",
       "      <td>5</td>\n",
       "    </tr>\n",
       "    <tr>\n",
       "      <th>1</th>\n",
       "      <td>4/18/2022 19:19:28</td>\n",
       "      <td>21.0</td>\n",
       "      <td>Female</td>\n",
       "      <td>Single</td>\n",
       "      <td>University Student</td>\n",
       "      <td>University</td>\n",
       "      <td>Yes</td>\n",
       "      <td>Facebook, Twitter, Instagram, YouTube, Discord...</td>\n",
       "      <td>More than 5 hours</td>\n",
       "      <td>4</td>\n",
       "      <td>...</td>\n",
       "      <td>2</td>\n",
       "      <td>4</td>\n",
       "      <td>5</td>\n",
       "      <td>4</td>\n",
       "      <td>5</td>\n",
       "      <td>1</td>\n",
       "      <td>1</td>\n",
       "      <td>5</td>\n",
       "      <td>4</td>\n",
       "      <td>5</td>\n",
       "    </tr>\n",
       "    <tr>\n",
       "      <th>2</th>\n",
       "      <td>4/18/2022 19:25:59</td>\n",
       "      <td>21.0</td>\n",
       "      <td>Female</td>\n",
       "      <td>Single</td>\n",
       "      <td>University Student</td>\n",
       "      <td>University</td>\n",
       "      <td>Yes</td>\n",
       "      <td>Facebook, Instagram, YouTube, Pinterest</td>\n",
       "      <td>Between 3 and 4 hours</td>\n",
       "      <td>3</td>\n",
       "      <td>...</td>\n",
       "      <td>1</td>\n",
       "      <td>2</td>\n",
       "      <td>5</td>\n",
       "      <td>4</td>\n",
       "      <td>3</td>\n",
       "      <td>3</td>\n",
       "      <td>1</td>\n",
       "      <td>4</td>\n",
       "      <td>2</td>\n",
       "      <td>5</td>\n",
       "    </tr>\n",
       "    <tr>\n",
       "      <th>3</th>\n",
       "      <td>4/18/2022 19:29:43</td>\n",
       "      <td>21.0</td>\n",
       "      <td>Female</td>\n",
       "      <td>Single</td>\n",
       "      <td>University Student</td>\n",
       "      <td>University</td>\n",
       "      <td>Yes</td>\n",
       "      <td>Facebook, Instagram</td>\n",
       "      <td>More than 5 hours</td>\n",
       "      <td>4</td>\n",
       "      <td>...</td>\n",
       "      <td>1</td>\n",
       "      <td>3</td>\n",
       "      <td>5</td>\n",
       "      <td>3</td>\n",
       "      <td>5</td>\n",
       "      <td>1</td>\n",
       "      <td>2</td>\n",
       "      <td>4</td>\n",
       "      <td>3</td>\n",
       "      <td>2</td>\n",
       "    </tr>\n",
       "    <tr>\n",
       "      <th>4</th>\n",
       "      <td>4/18/2022 19:33:31</td>\n",
       "      <td>21.0</td>\n",
       "      <td>Female</td>\n",
       "      <td>Single</td>\n",
       "      <td>University Student</td>\n",
       "      <td>University</td>\n",
       "      <td>Yes</td>\n",
       "      <td>Facebook, Instagram, YouTube</td>\n",
       "      <td>Between 2 and 3 hours</td>\n",
       "      <td>3</td>\n",
       "      <td>...</td>\n",
       "      <td>4</td>\n",
       "      <td>4</td>\n",
       "      <td>5</td>\n",
       "      <td>5</td>\n",
       "      <td>3</td>\n",
       "      <td>3</td>\n",
       "      <td>3</td>\n",
       "      <td>4</td>\n",
       "      <td>4</td>\n",
       "      <td>1</td>\n",
       "    </tr>\n",
       "  </tbody>\n",
       "</table>\n",
       "<p>5 rows × 21 columns</p>\n",
       "</div>"
      ],
      "text/plain": [
       "            Timestamp  1. What is your age? 2. Gender 3. Relationship Status  \\\n",
       "0  4/18/2022 19:18:47                  21.0      Male      In a relationship   \n",
       "1  4/18/2022 19:19:28                  21.0    Female                 Single   \n",
       "2  4/18/2022 19:25:59                  21.0    Female                 Single   \n",
       "3  4/18/2022 19:29:43                  21.0    Female                 Single   \n",
       "4  4/18/2022 19:33:31                  21.0    Female                 Single   \n",
       "\n",
       "  4. Occupation Status 5. What type of organizations are you affiliated with?  \\\n",
       "0   University Student                                         University       \n",
       "1   University Student                                         University       \n",
       "2   University Student                                         University       \n",
       "3   University Student                                         University       \n",
       "4   University Student                                         University       \n",
       "\n",
       "  6. Do you use social media?  \\\n",
       "0                         Yes   \n",
       "1                         Yes   \n",
       "2                         Yes   \n",
       "3                         Yes   \n",
       "4                         Yes   \n",
       "\n",
       "  7. What social media platforms do you commonly use?  \\\n",
       "0  Facebook, Twitter, Instagram, YouTube, Discord...    \n",
       "1  Facebook, Twitter, Instagram, YouTube, Discord...    \n",
       "2            Facebook, Instagram, YouTube, Pinterest    \n",
       "3                                Facebook, Instagram    \n",
       "4                       Facebook, Instagram, YouTube    \n",
       "\n",
       "  8. What is the average time you spend on social media every day?  \\\n",
       "0                              Between 2 and 3 hours                 \n",
       "1                                  More than 5 hours                 \n",
       "2                              Between 3 and 4 hours                 \n",
       "3                                  More than 5 hours                 \n",
       "4                              Between 2 and 3 hours                 \n",
       "\n",
       "   9. How often do you find yourself using Social media without a specific purpose?  \\\n",
       "0                                                  5                                  \n",
       "1                                                  4                                  \n",
       "2                                                  3                                  \n",
       "3                                                  4                                  \n",
       "4                                                  3                                  \n",
       "\n",
       "   ...  11. Do you feel restless if you haven't used Social media in a while?  \\\n",
       "0  ...                                                  2                       \n",
       "1  ...                                                  2                       \n",
       "2  ...                                                  1                       \n",
       "3  ...                                                  1                       \n",
       "4  ...                                                  4                       \n",
       "\n",
       "   12. On a scale of 1 to 5, how easily distracted are you?  \\\n",
       "0                                                  5          \n",
       "1                                                  4          \n",
       "2                                                  2          \n",
       "3                                                  3          \n",
       "4                                                  4          \n",
       "\n",
       "   13. On a scale of 1 to 5, how much are you bothered by worries?  \\\n",
       "0                                                  2                 \n",
       "1                                                  5                 \n",
       "2                                                  5                 \n",
       "3                                                  5                 \n",
       "4                                                  5                 \n",
       "\n",
       "   14. Do you find it difficult to concentrate on things?  \\\n",
       "0                                                  5        \n",
       "1                                                  4        \n",
       "2                                                  4        \n",
       "3                                                  3        \n",
       "4                                                  5        \n",
       "\n",
       "   15. On a scale of 1-5, how often do you compare yourself to other successful people through the use of social media?  \\\n",
       "0                                                  2                                                                      \n",
       "1                                                  5                                                                      \n",
       "2                                                  3                                                                      \n",
       "3                                                  5                                                                      \n",
       "4                                                  3                                                                      \n",
       "\n",
       "   16. Following the previous question, how do you feel about these comparisons, generally speaking?  \\\n",
       "0                                                  3                                                   \n",
       "1                                                  1                                                   \n",
       "2                                                  3                                                   \n",
       "3                                                  1                                                   \n",
       "4                                                  3                                                   \n",
       "\n",
       "   17. How often do you look to seek validation from features of social media?  \\\n",
       "0                                                  2                             \n",
       "1                                                  1                             \n",
       "2                                                  1                             \n",
       "3                                                  2                             \n",
       "4                                                  3                             \n",
       "\n",
       "   18. How often do you feel depressed or down?  \\\n",
       "0                                             5   \n",
       "1                                             5   \n",
       "2                                             4   \n",
       "3                                             4   \n",
       "4                                             4   \n",
       "\n",
       "   19. On a scale of 1 to 5, how frequently does your interest in daily activities fluctuate?  \\\n",
       "0                                                  4                                            \n",
       "1                                                  4                                            \n",
       "2                                                  2                                            \n",
       "3                                                  3                                            \n",
       "4                                                  4                                            \n",
       "\n",
       "   20. On a scale of 1 to 5, how often do you face issues regarding sleep?  \n",
       "0                                                  5                        \n",
       "1                                                  5                        \n",
       "2                                                  5                        \n",
       "3                                                  2                        \n",
       "4                                                  1                        \n",
       "\n",
       "[5 rows x 21 columns]"
      ]
     },
     "execution_count": 2,
     "metadata": {},
     "output_type": "execute_result"
    }
   ],
   "source": [
    "#CSV data file \n",
    "SM2_data = pd.read_csv(r'C:\\Users\\omnia\\Google Drive\\Springboard\\Capstone 2\\Dataset2.csv')\n",
    "SM2_data.head()"
   ]
  },
  {
   "cell_type": "code",
   "execution_count": 3,
   "id": "8cf1a232",
   "metadata": {},
   "outputs": [
    {
     "name": "stdout",
     "output_type": "stream",
     "text": [
      "<class 'pandas.core.frame.DataFrame'>\n",
      "RangeIndex: 481 entries, 0 to 480\n",
      "Data columns (total 21 columns):\n",
      " #   Column                                                                                                                Non-Null Count  Dtype  \n",
      "---  ------                                                                                                                --------------  -----  \n",
      " 0   Timestamp                                                                                                             481 non-null    object \n",
      " 1   1. What is your age?                                                                                                  481 non-null    float64\n",
      " 2   2. Gender                                                                                                             481 non-null    object \n",
      " 3   3. Relationship Status                                                                                                481 non-null    object \n",
      " 4   4. Occupation Status                                                                                                  481 non-null    object \n",
      " 5   5. What type of organizations are you affiliated with?                                                                451 non-null    object \n",
      " 6   6. Do you use social media?                                                                                           481 non-null    object \n",
      " 7   7. What social media platforms do you commonly use?                                                                   481 non-null    object \n",
      " 8   8. What is the average time you spend on social media every day?                                                      481 non-null    object \n",
      " 9   9. How often do you find yourself using Social media without a specific purpose?                                      481 non-null    int64  \n",
      " 10  10. How often do you get distracted by Social media when you are busy doing something?                                481 non-null    int64  \n",
      " 11  11. Do you feel restless if you haven't used Social media in a while?                                                 481 non-null    int64  \n",
      " 12  12. On a scale of 1 to 5, how easily distracted are you?                                                              481 non-null    int64  \n",
      " 13  13. On a scale of 1 to 5, how much are you bothered by worries?                                                       481 non-null    int64  \n",
      " 14  14. Do you find it difficult to concentrate on things?                                                                481 non-null    int64  \n",
      " 15  15. On a scale of 1-5, how often do you compare yourself to other successful people through the use of social media?  481 non-null    int64  \n",
      " 16  16. Following the previous question, how do you feel about these comparisons, generally speaking?                     481 non-null    int64  \n",
      " 17  17. How often do you look to seek validation from features of social media?                                           481 non-null    int64  \n",
      " 18  18. How often do you feel depressed or down?                                                                          481 non-null    int64  \n",
      " 19  19. On a scale of 1 to 5, how frequently does your interest in daily activities fluctuate?                            481 non-null    int64  \n",
      " 20  20. On a scale of 1 to 5, how often do you face issues regarding sleep?                                               481 non-null    int64  \n",
      "dtypes: float64(1), int64(12), object(8)\n",
      "memory usage: 79.0+ KB\n"
     ]
    }
   ],
   "source": [
    "SM2_data.info()"
   ]
  },
  {
   "cell_type": "code",
   "execution_count": 4,
   "id": "7da2d453",
   "metadata": {},
   "outputs": [
    {
     "data": {
      "text/html": [
       "<div>\n",
       "<style scoped>\n",
       "    .dataframe tbody tr th:only-of-type {\n",
       "        vertical-align: middle;\n",
       "    }\n",
       "\n",
       "    .dataframe tbody tr th {\n",
       "        vertical-align: top;\n",
       "    }\n",
       "\n",
       "    .dataframe thead th {\n",
       "        text-align: right;\n",
       "    }\n",
       "</style>\n",
       "<table border=\"1\" class=\"dataframe\">\n",
       "  <thead>\n",
       "    <tr style=\"text-align: right;\">\n",
       "      <th></th>\n",
       "      <th>count</th>\n",
       "      <th>%</th>\n",
       "    </tr>\n",
       "  </thead>\n",
       "  <tbody>\n",
       "    <tr>\n",
       "      <th>5. What type of organizations are you affiliated with?</th>\n",
       "      <td>30</td>\n",
       "      <td>6.237006</td>\n",
       "    </tr>\n",
       "    <tr>\n",
       "      <th>Timestamp</th>\n",
       "      <td>0</td>\n",
       "      <td>0.000000</td>\n",
       "    </tr>\n",
       "    <tr>\n",
       "      <th>11. Do you feel restless if you haven't used Social media in a while?</th>\n",
       "      <td>0</td>\n",
       "      <td>0.000000</td>\n",
       "    </tr>\n",
       "    <tr>\n",
       "      <th>19. On a scale of 1 to 5, how frequently does your interest in daily activities fluctuate?</th>\n",
       "      <td>0</td>\n",
       "      <td>0.000000</td>\n",
       "    </tr>\n",
       "    <tr>\n",
       "      <th>18. How often do you feel depressed or down?</th>\n",
       "      <td>0</td>\n",
       "      <td>0.000000</td>\n",
       "    </tr>\n",
       "    <tr>\n",
       "      <th>17. How often do you look to seek validation from features of social media?</th>\n",
       "      <td>0</td>\n",
       "      <td>0.000000</td>\n",
       "    </tr>\n",
       "    <tr>\n",
       "      <th>16. Following the previous question, how do you feel about these comparisons, generally speaking?</th>\n",
       "      <td>0</td>\n",
       "      <td>0.000000</td>\n",
       "    </tr>\n",
       "    <tr>\n",
       "      <th>15. On a scale of 1-5, how often do you compare yourself to other successful people through the use of social media?</th>\n",
       "      <td>0</td>\n",
       "      <td>0.000000</td>\n",
       "    </tr>\n",
       "    <tr>\n",
       "      <th>14. Do you find it difficult to concentrate on things?</th>\n",
       "      <td>0</td>\n",
       "      <td>0.000000</td>\n",
       "    </tr>\n",
       "    <tr>\n",
       "      <th>13. On a scale of 1 to 5, how much are you bothered by worries?</th>\n",
       "      <td>0</td>\n",
       "      <td>0.000000</td>\n",
       "    </tr>\n",
       "    <tr>\n",
       "      <th>12. On a scale of 1 to 5, how easily distracted are you?</th>\n",
       "      <td>0</td>\n",
       "      <td>0.000000</td>\n",
       "    </tr>\n",
       "    <tr>\n",
       "      <th>10. How often do you get distracted by Social media when you are busy doing something?</th>\n",
       "      <td>0</td>\n",
       "      <td>0.000000</td>\n",
       "    </tr>\n",
       "    <tr>\n",
       "      <th>1. What is your age?</th>\n",
       "      <td>0</td>\n",
       "      <td>0.000000</td>\n",
       "    </tr>\n",
       "    <tr>\n",
       "      <th>9. How often do you find yourself using Social media without a specific purpose?</th>\n",
       "      <td>0</td>\n",
       "      <td>0.000000</td>\n",
       "    </tr>\n",
       "    <tr>\n",
       "      <th>8. What is the average time you spend on social media every day?</th>\n",
       "      <td>0</td>\n",
       "      <td>0.000000</td>\n",
       "    </tr>\n",
       "    <tr>\n",
       "      <th>7. What social media platforms do you commonly use?</th>\n",
       "      <td>0</td>\n",
       "      <td>0.000000</td>\n",
       "    </tr>\n",
       "    <tr>\n",
       "      <th>6. Do you use social media?</th>\n",
       "      <td>0</td>\n",
       "      <td>0.000000</td>\n",
       "    </tr>\n",
       "    <tr>\n",
       "      <th>4. Occupation Status</th>\n",
       "      <td>0</td>\n",
       "      <td>0.000000</td>\n",
       "    </tr>\n",
       "    <tr>\n",
       "      <th>3. Relationship Status</th>\n",
       "      <td>0</td>\n",
       "      <td>0.000000</td>\n",
       "    </tr>\n",
       "    <tr>\n",
       "      <th>2. Gender</th>\n",
       "      <td>0</td>\n",
       "      <td>0.000000</td>\n",
       "    </tr>\n",
       "    <tr>\n",
       "      <th>20. On a scale of 1 to 5, how often do you face issues regarding sleep?</th>\n",
       "      <td>0</td>\n",
       "      <td>0.000000</td>\n",
       "    </tr>\n",
       "  </tbody>\n",
       "</table>\n",
       "</div>"
      ],
      "text/plain": [
       "                                                    count         %\n",
       "5. What type of organizations are you affiliate...     30  6.237006\n",
       "Timestamp                                               0  0.000000\n",
       "11. Do you feel restless if you haven't used So...      0  0.000000\n",
       "19. On a scale of 1 to 5, how frequently does y...      0  0.000000\n",
       "18. How often do you feel depressed or down?            0  0.000000\n",
       "17. How often do you look to seek validation fr...      0  0.000000\n",
       "16. Following the previous question, how do you...      0  0.000000\n",
       "15. On a scale of 1-5, how often do you compare...      0  0.000000\n",
       "14. Do you find it difficult to concentrate on ...      0  0.000000\n",
       "13. On a scale of 1 to 5, how much are you both...      0  0.000000\n",
       "12. On a scale of 1 to 5, how easily distracted...      0  0.000000\n",
       "10. How often do you get distracted by Social m...      0  0.000000\n",
       "1. What is your age?                                    0  0.000000\n",
       "9. How often do you find yourself using Social ...      0  0.000000\n",
       "8. What is the average time you spend on social...      0  0.000000\n",
       "7. What social media platforms do you commonly ...      0  0.000000\n",
       "6. Do you use social media?                             0  0.000000\n",
       "4. Occupation Status                                    0  0.000000\n",
       "3. Relationship Status                                  0  0.000000\n",
       "2. Gender                                               0  0.000000\n",
       "20. On a scale of 1 to 5, how often do you face...      0  0.000000"
      ]
     },
     "execution_count": 4,
     "metadata": {},
     "output_type": "execute_result"
    }
   ],
   "source": [
    "# Missing data\n",
    "missing = pd.concat([SM2_data.isnull().sum(), 100 * SM2_data.isnull().mean()], axis=1)\n",
    "missing.columns=['count', '%']\n",
    "missing.sort_values(by='count', ascending=False)"
   ]
  },
  {
   "cell_type": "code",
   "execution_count": 5,
   "id": "8961b59c",
   "metadata": {},
   "outputs": [
    {
     "name": "stdout",
     "output_type": "stream",
     "text": [
      "Index(['Timestamp', '1. What is your age?', '2. Gender',\n",
      "       '3. Relationship Status', '4. Occupation Status',\n",
      "       '5. What type of organizations are you affiliated with?',\n",
      "       '6. Do you use social media?',\n",
      "       '7. What social media platforms do you commonly use?',\n",
      "       '8. What is the average time you spend on social media every day?',\n",
      "       '9. How often do you find yourself using Social media without a specific purpose?',\n",
      "       '10. How often do you get distracted by Social media when you are busy doing something?',\n",
      "       '11. Do you feel restless if you haven't used Social media in a while?',\n",
      "       '12. On a scale of 1 to 5, how easily distracted are you?',\n",
      "       '13. On a scale of 1 to 5, how much are you bothered by worries?',\n",
      "       '14. Do you find it difficult to concentrate on things?',\n",
      "       '15. On a scale of 1-5, how often do you compare yourself to other successful people through the use of social media?',\n",
      "       '16. Following the previous question, how do you feel about these comparisons, generally speaking?',\n",
      "       '17. How often do you look to seek validation from features of social media?',\n",
      "       '18. How often do you feel depressed or down?',\n",
      "       '19. On a scale of 1 to 5, how frequently does your interest in daily activities fluctuate?',\n",
      "       '20. On a scale of 1 to 5, how often do you face issues regarding sleep?'],\n",
      "      dtype='object')\n"
     ]
    }
   ],
   "source": [
    "print(SM2_data.columns)"
   ]
  },
  {
   "cell_type": "code",
   "execution_count": 6,
   "id": "5db9587c",
   "metadata": {},
   "outputs": [
    {
     "data": {
      "text/html": [
       "<div>\n",
       "<style scoped>\n",
       "    .dataframe tbody tr th:only-of-type {\n",
       "        vertical-align: middle;\n",
       "    }\n",
       "\n",
       "    .dataframe tbody tr th {\n",
       "        vertical-align: top;\n",
       "    }\n",
       "\n",
       "    .dataframe thead th {\n",
       "        text-align: right;\n",
       "    }\n",
       "</style>\n",
       "<table border=\"1\" class=\"dataframe\">\n",
       "  <thead>\n",
       "    <tr style=\"text-align: right;\">\n",
       "      <th></th>\n",
       "      <th>0</th>\n",
       "      <th>1</th>\n",
       "      <th>2</th>\n",
       "      <th>3</th>\n",
       "      <th>4</th>\n",
       "    </tr>\n",
       "  </thead>\n",
       "  <tbody>\n",
       "    <tr>\n",
       "      <th>1. What is your age?</th>\n",
       "      <td>21.0</td>\n",
       "      <td>21.0</td>\n",
       "      <td>21.0</td>\n",
       "      <td>21.0</td>\n",
       "      <td>21.0</td>\n",
       "    </tr>\n",
       "    <tr>\n",
       "      <th>2. Gender</th>\n",
       "      <td>Male</td>\n",
       "      <td>Female</td>\n",
       "      <td>Female</td>\n",
       "      <td>Female</td>\n",
       "      <td>Female</td>\n",
       "    </tr>\n",
       "    <tr>\n",
       "      <th>3. Relationship Status</th>\n",
       "      <td>In a relationship</td>\n",
       "      <td>Single</td>\n",
       "      <td>Single</td>\n",
       "      <td>Single</td>\n",
       "      <td>Single</td>\n",
       "    </tr>\n",
       "    <tr>\n",
       "      <th>8. What is the average time you spend on social media every day?</th>\n",
       "      <td>Between 2 and 3 hours</td>\n",
       "      <td>More than 5 hours</td>\n",
       "      <td>Between 3 and 4 hours</td>\n",
       "      <td>More than 5 hours</td>\n",
       "      <td>Between 2 and 3 hours</td>\n",
       "    </tr>\n",
       "    <tr>\n",
       "      <th>9. How often do you find yourself using Social media without a specific purpose?</th>\n",
       "      <td>5</td>\n",
       "      <td>4</td>\n",
       "      <td>3</td>\n",
       "      <td>4</td>\n",
       "      <td>3</td>\n",
       "    </tr>\n",
       "    <tr>\n",
       "      <th>10. How often do you get distracted by Social media when you are busy doing something?</th>\n",
       "      <td>3</td>\n",
       "      <td>3</td>\n",
       "      <td>2</td>\n",
       "      <td>2</td>\n",
       "      <td>5</td>\n",
       "    </tr>\n",
       "    <tr>\n",
       "      <th>11. Do you feel restless if you haven't used Social media in a while?</th>\n",
       "      <td>2</td>\n",
       "      <td>2</td>\n",
       "      <td>1</td>\n",
       "      <td>1</td>\n",
       "      <td>4</td>\n",
       "    </tr>\n",
       "    <tr>\n",
       "      <th>12. On a scale of 1 to 5, how easily distracted are you?</th>\n",
       "      <td>5</td>\n",
       "      <td>4</td>\n",
       "      <td>2</td>\n",
       "      <td>3</td>\n",
       "      <td>4</td>\n",
       "    </tr>\n",
       "    <tr>\n",
       "      <th>13. On a scale of 1 to 5, how much are you bothered by worries?</th>\n",
       "      <td>2</td>\n",
       "      <td>5</td>\n",
       "      <td>5</td>\n",
       "      <td>5</td>\n",
       "      <td>5</td>\n",
       "    </tr>\n",
       "    <tr>\n",
       "      <th>14. Do you find it difficult to concentrate on things?</th>\n",
       "      <td>5</td>\n",
       "      <td>4</td>\n",
       "      <td>4</td>\n",
       "      <td>3</td>\n",
       "      <td>5</td>\n",
       "    </tr>\n",
       "    <tr>\n",
       "      <th>15. On a scale of 1-5, how often do you compare yourself to other successful people through the use of social media?</th>\n",
       "      <td>2</td>\n",
       "      <td>5</td>\n",
       "      <td>3</td>\n",
       "      <td>5</td>\n",
       "      <td>3</td>\n",
       "    </tr>\n",
       "    <tr>\n",
       "      <th>16. Following the previous question, how do you feel about these comparisons, generally speaking?</th>\n",
       "      <td>3</td>\n",
       "      <td>1</td>\n",
       "      <td>3</td>\n",
       "      <td>1</td>\n",
       "      <td>3</td>\n",
       "    </tr>\n",
       "    <tr>\n",
       "      <th>17. How often do you look to seek validation from features of social media?</th>\n",
       "      <td>2</td>\n",
       "      <td>1</td>\n",
       "      <td>1</td>\n",
       "      <td>2</td>\n",
       "      <td>3</td>\n",
       "    </tr>\n",
       "    <tr>\n",
       "      <th>18. How often do you feel depressed or down?</th>\n",
       "      <td>5</td>\n",
       "      <td>5</td>\n",
       "      <td>4</td>\n",
       "      <td>4</td>\n",
       "      <td>4</td>\n",
       "    </tr>\n",
       "    <tr>\n",
       "      <th>19. On a scale of 1 to 5, how frequently does your interest in daily activities fluctuate?</th>\n",
       "      <td>4</td>\n",
       "      <td>4</td>\n",
       "      <td>2</td>\n",
       "      <td>3</td>\n",
       "      <td>4</td>\n",
       "    </tr>\n",
       "    <tr>\n",
       "      <th>20. On a scale of 1 to 5, how often do you face issues regarding sleep?</th>\n",
       "      <td>5</td>\n",
       "      <td>5</td>\n",
       "      <td>5</td>\n",
       "      <td>2</td>\n",
       "      <td>1</td>\n",
       "    </tr>\n",
       "  </tbody>\n",
       "</table>\n",
       "</div>"
      ],
      "text/plain": [
       "                                                                        0  \\\n",
       "1. What is your age?                                                 21.0   \n",
       "2. Gender                                                            Male   \n",
       "3. Relationship Status                                  In a relationship   \n",
       "8. What is the average time you spend on social...  Between 2 and 3 hours   \n",
       "9. How often do you find yourself using Social ...                      5   \n",
       "10. How often do you get distracted by Social m...                      3   \n",
       "11. Do you feel restless if you haven't used So...                      2   \n",
       "12. On a scale of 1 to 5, how easily distracted...                      5   \n",
       "13. On a scale of 1 to 5, how much are you both...                      2   \n",
       "14. Do you find it difficult to concentrate on ...                      5   \n",
       "15. On a scale of 1-5, how often do you compare...                      2   \n",
       "16. Following the previous question, how do you...                      3   \n",
       "17. How often do you look to seek validation fr...                      2   \n",
       "18. How often do you feel depressed or down?                            5   \n",
       "19. On a scale of 1 to 5, how frequently does y...                      4   \n",
       "20. On a scale of 1 to 5, how often do you face...                      5   \n",
       "\n",
       "                                                                    1  \\\n",
       "1. What is your age?                                             21.0   \n",
       "2. Gender                                                      Female   \n",
       "3. Relationship Status                                         Single   \n",
       "8. What is the average time you spend on social...  More than 5 hours   \n",
       "9. How often do you find yourself using Social ...                  4   \n",
       "10. How often do you get distracted by Social m...                  3   \n",
       "11. Do you feel restless if you haven't used So...                  2   \n",
       "12. On a scale of 1 to 5, how easily distracted...                  4   \n",
       "13. On a scale of 1 to 5, how much are you both...                  5   \n",
       "14. Do you find it difficult to concentrate on ...                  4   \n",
       "15. On a scale of 1-5, how often do you compare...                  5   \n",
       "16. Following the previous question, how do you...                  1   \n",
       "17. How often do you look to seek validation fr...                  1   \n",
       "18. How often do you feel depressed or down?                        5   \n",
       "19. On a scale of 1 to 5, how frequently does y...                  4   \n",
       "20. On a scale of 1 to 5, how often do you face...                  5   \n",
       "\n",
       "                                                                        2  \\\n",
       "1. What is your age?                                                 21.0   \n",
       "2. Gender                                                          Female   \n",
       "3. Relationship Status                                             Single   \n",
       "8. What is the average time you spend on social...  Between 3 and 4 hours   \n",
       "9. How often do you find yourself using Social ...                      3   \n",
       "10. How often do you get distracted by Social m...                      2   \n",
       "11. Do you feel restless if you haven't used So...                      1   \n",
       "12. On a scale of 1 to 5, how easily distracted...                      2   \n",
       "13. On a scale of 1 to 5, how much are you both...                      5   \n",
       "14. Do you find it difficult to concentrate on ...                      4   \n",
       "15. On a scale of 1-5, how often do you compare...                      3   \n",
       "16. Following the previous question, how do you...                      3   \n",
       "17. How often do you look to seek validation fr...                      1   \n",
       "18. How often do you feel depressed or down?                            4   \n",
       "19. On a scale of 1 to 5, how frequently does y...                      2   \n",
       "20. On a scale of 1 to 5, how often do you face...                      5   \n",
       "\n",
       "                                                                    3  \\\n",
       "1. What is your age?                                             21.0   \n",
       "2. Gender                                                      Female   \n",
       "3. Relationship Status                                         Single   \n",
       "8. What is the average time you spend on social...  More than 5 hours   \n",
       "9. How often do you find yourself using Social ...                  4   \n",
       "10. How often do you get distracted by Social m...                  2   \n",
       "11. Do you feel restless if you haven't used So...                  1   \n",
       "12. On a scale of 1 to 5, how easily distracted...                  3   \n",
       "13. On a scale of 1 to 5, how much are you both...                  5   \n",
       "14. Do you find it difficult to concentrate on ...                  3   \n",
       "15. On a scale of 1-5, how often do you compare...                  5   \n",
       "16. Following the previous question, how do you...                  1   \n",
       "17. How often do you look to seek validation fr...                  2   \n",
       "18. How often do you feel depressed or down?                        4   \n",
       "19. On a scale of 1 to 5, how frequently does y...                  3   \n",
       "20. On a scale of 1 to 5, how often do you face...                  2   \n",
       "\n",
       "                                                                        4  \n",
       "1. What is your age?                                                 21.0  \n",
       "2. Gender                                                          Female  \n",
       "3. Relationship Status                                             Single  \n",
       "8. What is the average time you spend on social...  Between 2 and 3 hours  \n",
       "9. How often do you find yourself using Social ...                      3  \n",
       "10. How often do you get distracted by Social m...                      5  \n",
       "11. Do you feel restless if you haven't used So...                      4  \n",
       "12. On a scale of 1 to 5, how easily distracted...                      4  \n",
       "13. On a scale of 1 to 5, how much are you both...                      5  \n",
       "14. Do you find it difficult to concentrate on ...                      5  \n",
       "15. On a scale of 1-5, how often do you compare...                      3  \n",
       "16. Following the previous question, how do you...                      3  \n",
       "17. How often do you look to seek validation fr...                      3  \n",
       "18. How often do you feel depressed or down?                            4  \n",
       "19. On a scale of 1 to 5, how frequently does y...                      4  \n",
       "20. On a scale of 1 to 5, how often do you face...                      1  "
      ]
     },
     "execution_count": 6,
     "metadata": {},
     "output_type": "execute_result"
    }
   ],
   "source": [
    "columns_to_drop = ['5. What type of organizations are you affiliated with?', 'Timestamp', '4. Occupation Status', '6. Do you use social media?', '7. What social media platforms do you commonly use?']  \n",
    "SM2_data = SM2_data.drop(columns=columns_to_drop)\n",
    "SM2_data.head().T"
   ]
  },
  {
   "cell_type": "code",
   "execution_count": 7,
   "id": "30e6b535",
   "metadata": {},
   "outputs": [
    {
     "data": {
      "text/plain": [
       "1. What is your age?                                                                                                    float64\n",
       "2. Gender                                                                                                                object\n",
       "3. Relationship Status                                                                                                   object\n",
       "8. What is the average time you spend on social media every day?                                                         object\n",
       "9. How often do you find yourself using Social media without a specific purpose?                                          int64\n",
       "10. How often do you get distracted by Social media when you are busy doing something?                                    int64\n",
       "11. Do you feel restless if you haven't used Social media in a while?                                                     int64\n",
       "12. On a scale of 1 to 5, how easily distracted are you?                                                                  int64\n",
       "13. On a scale of 1 to 5, how much are you bothered by worries?                                                           int64\n",
       "14. Do you find it difficult to concentrate on things?                                                                    int64\n",
       "15. On a scale of 1-5, how often do you compare yourself to other successful people through the use of social media?      int64\n",
       "16. Following the previous question, how do you feel about these comparisons, generally speaking?                         int64\n",
       "17. How often do you look to seek validation from features of social media?                                               int64\n",
       "18. How often do you feel depressed or down?                                                                              int64\n",
       "19. On a scale of 1 to 5, how frequently does your interest in daily activities fluctuate?                                int64\n",
       "20. On a scale of 1 to 5, how often do you face issues regarding sleep?                                                   int64\n",
       "dtype: object"
      ]
     },
     "execution_count": 7,
     "metadata": {},
     "output_type": "execute_result"
    }
   ],
   "source": [
    "SM2_data.dtypes"
   ]
  },
  {
   "cell_type": "code",
   "execution_count": 8,
   "id": "cd081034",
   "metadata": {},
   "outputs": [],
   "source": [
    "# Convert all float columns to integers\n",
    "#float_cols = SM2_data.select_dtypes(include=['float']).columns\n",
    "#SM2_data[float_cols] = SM2_data[float_cols].astype(int)\n",
    "#SM2_data.head().T"
   ]
  },
  {
   "cell_type": "code",
   "execution_count": 9,
   "id": "f966b5ba",
   "metadata": {},
   "outputs": [
    {
     "name": "stdout",
     "output_type": "stream",
     "text": [
      "Unique Relationship Status:\n",
      "['In a relationship' 'Single' 'Married' 'Divorced']\n"
     ]
    }
   ],
   "source": [
    "print(\"Unique Relationship Status:\")\n",
    "print(SM2_data['3. Relationship Status'].unique())"
   ]
  },
  {
   "cell_type": "code",
   "execution_count": 10,
   "id": "ceaacc65",
   "metadata": {},
   "outputs": [
    {
     "name": "stdout",
     "output_type": "stream",
     "text": [
      "Unique Gender:\n",
      "['Male' 'Female' 'Nonbinary ' 'Non-binary' 'NB' 'unsure ' 'Trans'\n",
      " 'Non binary ' 'There are others???']\n"
     ]
    }
   ],
   "source": [
    "print(\"Unique Gender:\")\n",
    "print(SM2_data['2. Gender'].unique())"
   ]
  },
  {
   "cell_type": "code",
   "execution_count": 11,
   "id": "76480e48",
   "metadata": {},
   "outputs": [],
   "source": [
    "# Define the mapping for Gender values\n",
    "gender_mapping = {\n",
    "    'Male': 'Male',\n",
    "    'Female': 'Female',\n",
    "    'Nonbinary ': 'Non-binary',\n",
    "    'Non-binary': 'Non-binary',\n",
    "    'NB': 'Non-binary',\n",
    "    'Non binary ': 'Non-binary',\n",
    "    'Trans': 'Other',\n",
    "    'unsure ': 'Other',\n",
    "    'There are others???': 'Other'\n",
    "}"
   ]
  },
  {
   "cell_type": "code",
   "execution_count": 12,
   "id": "b55ab254",
   "metadata": {},
   "outputs": [
    {
     "name": "stdout",
     "output_type": "stream",
     "text": [
      "Unique Gender After Mapping:\n",
      "['Male' 'Female' 'Non-binary' 'Other']\n"
     ]
    }
   ],
   "source": [
    "# Apply the mapping to the Gender column\n",
    "SM2_data['2. Gender'] = SM2_data['2. Gender'].replace(gender_mapping)\n",
    "print(\"Unique Gender After Mapping:\")\n",
    "print(SM2_data['2. Gender'].unique())"
   ]
  },
  {
   "cell_type": "code",
   "execution_count": 13,
   "id": "b4af82dd",
   "metadata": {},
   "outputs": [],
   "source": [
    "# Rename columns for easier reference\n",
    "column_rename_mapping = {\n",
    "    '1. What is your age?': 'Age',\n",
    "    '2. Gender': 'Gender',\n",
    "    '3. Relationship Status': 'Relationship_Status',\n",
    "    '8. What is the average time you spend on social media every day?': 'Average_Daily_SM_Time',\n",
    "    '9. How often do you find yourself using Social media without a specific purpose?': 'Use_Without_Purpose',\n",
    "    '10. How often do you get distracted by Social media when you are busy doing something?': 'Distraction_Level',\n",
    "    '11. Do you feel restless if you haven\\'t used Social media in a while?': 'Restlessness',\n",
    "    '12. On a scale of 1 to 5, how easily distracted are you?': 'Distractibility_Scale',\n",
    "    '13. On a scale of 1 to 5, how much are you bothered by worries?': 'Worry_Scale',\n",
    "    '14. Do you find it difficult to concentrate on things?': 'Concentration_Difficulty',\n",
    "    '15. On a scale of 1-5, how often do you compare yourself to other successful people through the use of social media?': 'Comparison_Scale',\n",
    "    '16. Following the previous question, how do you feel about these comparisons, generally speaking?': 'Comparison_Feelings',\n",
    "    '17. How often do you look to seek validation from features of social media?': 'Validation_Seeking',\n",
    "    '18. How often do you feel depressed or down?': 'Depression_Frequency',\n",
    "    '19. On a scale of 1 to 5, how frequently does your interest in daily activities fluctuate?': 'Interest_Fluctuation',\n",
    "    '20. On a scale of 1 to 5, how often do you face issues regarding sleep?': 'Sleep_Issues'\n",
    "}"
   ]
  },
  {
   "cell_type": "code",
   "execution_count": 14,
   "id": "30d19c77",
   "metadata": {},
   "outputs": [
    {
     "name": "stdout",
     "output_type": "stream",
     "text": [
      "Index(['Age', 'Gender', 'Relationship_Status', 'Average_Daily_SM_Time',\n",
      "       'Use_Without_Purpose', 'Distraction_Level', 'Restlessness',\n",
      "       'Distractibility_Scale', 'Worry_Scale', 'Concentration_Difficulty',\n",
      "       'Comparison_Scale', 'Comparison_Feelings', 'Validation_Seeking',\n",
      "       'Depression_Frequency', 'Interest_Fluctuation', 'Sleep_Issues'],\n",
      "      dtype='object')\n"
     ]
    }
   ],
   "source": [
    "# Apply the renaming\n",
    "SM2_data = SM2_data.rename(columns=column_rename_mapping)\n",
    "print(SM2_data.columns)"
   ]
  },
  {
   "cell_type": "code",
   "execution_count": 15,
   "id": "ffc9c96f",
   "metadata": {},
   "outputs": [
    {
     "data": {
      "text/html": [
       "<div>\n",
       "<style scoped>\n",
       "    .dataframe tbody tr th:only-of-type {\n",
       "        vertical-align: middle;\n",
       "    }\n",
       "\n",
       "    .dataframe tbody tr th {\n",
       "        vertical-align: top;\n",
       "    }\n",
       "\n",
       "    .dataframe thead th {\n",
       "        text-align: right;\n",
       "    }\n",
       "</style>\n",
       "<table border=\"1\" class=\"dataframe\">\n",
       "  <thead>\n",
       "    <tr style=\"text-align: right;\">\n",
       "      <th></th>\n",
       "      <th>0</th>\n",
       "      <th>1</th>\n",
       "      <th>2</th>\n",
       "      <th>3</th>\n",
       "      <th>4</th>\n",
       "    </tr>\n",
       "  </thead>\n",
       "  <tbody>\n",
       "    <tr>\n",
       "      <th>Age</th>\n",
       "      <td>21.0</td>\n",
       "      <td>21.0</td>\n",
       "      <td>21.0</td>\n",
       "      <td>21.0</td>\n",
       "      <td>21.0</td>\n",
       "    </tr>\n",
       "    <tr>\n",
       "      <th>Gender</th>\n",
       "      <td>Male</td>\n",
       "      <td>Female</td>\n",
       "      <td>Female</td>\n",
       "      <td>Female</td>\n",
       "      <td>Female</td>\n",
       "    </tr>\n",
       "    <tr>\n",
       "      <th>Relationship_Status</th>\n",
       "      <td>In a relationship</td>\n",
       "      <td>Single</td>\n",
       "      <td>Single</td>\n",
       "      <td>Single</td>\n",
       "      <td>Single</td>\n",
       "    </tr>\n",
       "    <tr>\n",
       "      <th>Average_Daily_SM_Time</th>\n",
       "      <td>Between 2 and 3 hours</td>\n",
       "      <td>More than 5 hours</td>\n",
       "      <td>Between 3 and 4 hours</td>\n",
       "      <td>More than 5 hours</td>\n",
       "      <td>Between 2 and 3 hours</td>\n",
       "    </tr>\n",
       "    <tr>\n",
       "      <th>Use_Without_Purpose</th>\n",
       "      <td>5</td>\n",
       "      <td>4</td>\n",
       "      <td>3</td>\n",
       "      <td>4</td>\n",
       "      <td>3</td>\n",
       "    </tr>\n",
       "    <tr>\n",
       "      <th>Distraction_Level</th>\n",
       "      <td>3</td>\n",
       "      <td>3</td>\n",
       "      <td>2</td>\n",
       "      <td>2</td>\n",
       "      <td>5</td>\n",
       "    </tr>\n",
       "    <tr>\n",
       "      <th>Restlessness</th>\n",
       "      <td>2</td>\n",
       "      <td>2</td>\n",
       "      <td>1</td>\n",
       "      <td>1</td>\n",
       "      <td>4</td>\n",
       "    </tr>\n",
       "    <tr>\n",
       "      <th>Distractibility_Scale</th>\n",
       "      <td>5</td>\n",
       "      <td>4</td>\n",
       "      <td>2</td>\n",
       "      <td>3</td>\n",
       "      <td>4</td>\n",
       "    </tr>\n",
       "    <tr>\n",
       "      <th>Worry_Scale</th>\n",
       "      <td>2</td>\n",
       "      <td>5</td>\n",
       "      <td>5</td>\n",
       "      <td>5</td>\n",
       "      <td>5</td>\n",
       "    </tr>\n",
       "    <tr>\n",
       "      <th>Concentration_Difficulty</th>\n",
       "      <td>5</td>\n",
       "      <td>4</td>\n",
       "      <td>4</td>\n",
       "      <td>3</td>\n",
       "      <td>5</td>\n",
       "    </tr>\n",
       "    <tr>\n",
       "      <th>Comparison_Scale</th>\n",
       "      <td>2</td>\n",
       "      <td>5</td>\n",
       "      <td>3</td>\n",
       "      <td>5</td>\n",
       "      <td>3</td>\n",
       "    </tr>\n",
       "    <tr>\n",
       "      <th>Comparison_Feelings</th>\n",
       "      <td>3</td>\n",
       "      <td>1</td>\n",
       "      <td>3</td>\n",
       "      <td>1</td>\n",
       "      <td>3</td>\n",
       "    </tr>\n",
       "    <tr>\n",
       "      <th>Validation_Seeking</th>\n",
       "      <td>2</td>\n",
       "      <td>1</td>\n",
       "      <td>1</td>\n",
       "      <td>2</td>\n",
       "      <td>3</td>\n",
       "    </tr>\n",
       "    <tr>\n",
       "      <th>Depression_Frequency</th>\n",
       "      <td>5</td>\n",
       "      <td>5</td>\n",
       "      <td>4</td>\n",
       "      <td>4</td>\n",
       "      <td>4</td>\n",
       "    </tr>\n",
       "    <tr>\n",
       "      <th>Interest_Fluctuation</th>\n",
       "      <td>4</td>\n",
       "      <td>4</td>\n",
       "      <td>2</td>\n",
       "      <td>3</td>\n",
       "      <td>4</td>\n",
       "    </tr>\n",
       "    <tr>\n",
       "      <th>Sleep_Issues</th>\n",
       "      <td>5</td>\n",
       "      <td>5</td>\n",
       "      <td>5</td>\n",
       "      <td>2</td>\n",
       "      <td>1</td>\n",
       "    </tr>\n",
       "  </tbody>\n",
       "</table>\n",
       "</div>"
      ],
      "text/plain": [
       "                                              0                  1  \\\n",
       "Age                                        21.0               21.0   \n",
       "Gender                                     Male             Female   \n",
       "Relationship_Status           In a relationship             Single   \n",
       "Average_Daily_SM_Time     Between 2 and 3 hours  More than 5 hours   \n",
       "Use_Without_Purpose                           5                  4   \n",
       "Distraction_Level                             3                  3   \n",
       "Restlessness                                  2                  2   \n",
       "Distractibility_Scale                         5                  4   \n",
       "Worry_Scale                                   2                  5   \n",
       "Concentration_Difficulty                      5                  4   \n",
       "Comparison_Scale                              2                  5   \n",
       "Comparison_Feelings                           3                  1   \n",
       "Validation_Seeking                            2                  1   \n",
       "Depression_Frequency                          5                  5   \n",
       "Interest_Fluctuation                          4                  4   \n",
       "Sleep_Issues                                  5                  5   \n",
       "\n",
       "                                              2                  3  \\\n",
       "Age                                        21.0               21.0   \n",
       "Gender                                   Female             Female   \n",
       "Relationship_Status                      Single             Single   \n",
       "Average_Daily_SM_Time     Between 3 and 4 hours  More than 5 hours   \n",
       "Use_Without_Purpose                           3                  4   \n",
       "Distraction_Level                             2                  2   \n",
       "Restlessness                                  1                  1   \n",
       "Distractibility_Scale                         2                  3   \n",
       "Worry_Scale                                   5                  5   \n",
       "Concentration_Difficulty                      4                  3   \n",
       "Comparison_Scale                              3                  5   \n",
       "Comparison_Feelings                           3                  1   \n",
       "Validation_Seeking                            1                  2   \n",
       "Depression_Frequency                          4                  4   \n",
       "Interest_Fluctuation                          2                  3   \n",
       "Sleep_Issues                                  5                  2   \n",
       "\n",
       "                                              4  \n",
       "Age                                        21.0  \n",
       "Gender                                   Female  \n",
       "Relationship_Status                      Single  \n",
       "Average_Daily_SM_Time     Between 2 and 3 hours  \n",
       "Use_Without_Purpose                           3  \n",
       "Distraction_Level                             5  \n",
       "Restlessness                                  4  \n",
       "Distractibility_Scale                         4  \n",
       "Worry_Scale                                   5  \n",
       "Concentration_Difficulty                      5  \n",
       "Comparison_Scale                              3  \n",
       "Comparison_Feelings                           3  \n",
       "Validation_Seeking                            3  \n",
       "Depression_Frequency                          4  \n",
       "Interest_Fluctuation                          4  \n",
       "Sleep_Issues                                  1  "
      ]
     },
     "execution_count": 15,
     "metadata": {},
     "output_type": "execute_result"
    }
   ],
   "source": [
    "SM2_data.head().T"
   ]
  },
  {
   "cell_type": "code",
   "execution_count": 16,
   "id": "fc23a664",
   "metadata": {},
   "outputs": [
    {
     "data": {
      "text/plain": [
       "array(['Between 2 and 3 hours', 'More than 5 hours',\n",
       "       'Between 3 and 4 hours', 'Less than an Hour',\n",
       "       'Between 1 and 2 hours', 'Between 4 and 5 hours'], dtype=object)"
      ]
     },
     "execution_count": 16,
     "metadata": {},
     "output_type": "execute_result"
    }
   ],
   "source": [
    "SM2_data['Average_Daily_SM_Time'].unique()"
   ]
  },
  {
   "cell_type": "code",
   "execution_count": 17,
   "id": "bed1a992",
   "metadata": {},
   "outputs": [],
   "source": [
    "# Define the mapping from time ranges to numerical values (in hours)\n",
    "time_mapping = {\n",
    "    'Less than an Hour': 0.5,\n",
    "    'Between 1 and 2 hours': 1.5,\n",
    "    'Between 2 and 3 hours': 2.5,\n",
    "    'Between 3 and 4 hours': 3.5,\n",
    "    'Between 4 and 5 hours': 4.5,\n",
    "    'More than 5 hours': 5.5  \n",
    "}"
   ]
  },
  {
   "cell_type": "code",
   "execution_count": 18,
   "id": "eec34e73",
   "metadata": {},
   "outputs": [
    {
     "name": "stdout",
     "output_type": "stream",
     "text": [
      "0    2.5\n",
      "1    5.5\n",
      "2    3.5\n",
      "3    5.5\n",
      "4    2.5\n",
      "Name: Average_Daily_SM_Time, dtype: float64\n"
     ]
    }
   ],
   "source": [
    "SM2_data['Average_Daily_SM_Time'] = SM2_data['Average_Daily_SM_Time'].replace(time_mapping)\n",
    "print(SM2_data['Average_Daily_SM_Time'].head())"
   ]
  },
  {
   "cell_type": "code",
   "execution_count": 19,
   "id": "b1b8bca2",
   "metadata": {
    "scrolled": true
   },
   "outputs": [
    {
     "data": {
      "text/plain": [
       "Age                         float64\n",
       "Gender                        int32\n",
       "Relationship_Status           int32\n",
       "Average_Daily_SM_Time       float64\n",
       "Use_Without_Purpose           int64\n",
       "Distraction_Level             int64\n",
       "Restlessness                  int64\n",
       "Distractibility_Scale         int64\n",
       "Worry_Scale                   int64\n",
       "Concentration_Difficulty      int64\n",
       "Comparison_Scale              int64\n",
       "Comparison_Feelings           int64\n",
       "Validation_Seeking            int64\n",
       "Depression_Frequency          int64\n",
       "Interest_Fluctuation          int64\n",
       "Sleep_Issues                  int64\n",
       "dtype: object"
      ]
     },
     "execution_count": 19,
     "metadata": {},
     "output_type": "execute_result"
    }
   ],
   "source": [
    "# Convert object to numeric\n",
    "categorical_columns = ['Gender', 'Relationship_Status'] \n",
    "for column in categorical_columns:\n",
    "    label_encoder = LabelEncoder()\n",
    "    SM2_data[column] = label_encoder.fit_transform(SM2_data[column])\n",
    "SM2_data.dtypes"
   ]
  },
  {
   "cell_type": "code",
   "execution_count": 20,
   "id": "ea8cedf5",
   "metadata": {
    "scrolled": true
   },
   "outputs": [
    {
     "data": {
      "image/png": "[encoded data removed]",
      "text/plain": [
       "<Figure size 1200x800 with 2 Axes>"
      ]
     },
     "metadata": {},
     "output_type": "display_data"
    }
   ],
   "source": [
    "# Check correlation matrix\n",
    "plt.figure(figsize=(12, 8))\n",
    "sns.heatmap(SM2_data.corr(), annot=True, cmap='coolwarm')\n",
    "plt.title('Correlation Matrix')\n",
    "plt.show()"
   ]
  },
  {
   "cell_type": "code",
   "execution_count": 21,
   "id": "33a8e891",
   "metadata": {
    "scrolled": true
   },
   "outputs": [],
   "source": [
    "#clustering\n",
    "clustering_features = SM2_data[['Age', 'Gender', 'Average_Daily_SM_Time', 'Worry_Scale', 'Depression_Frequency', 'Restlessness', 'Concentration_Difficulty', 'Sleep_Issues']]"
   ]
  },
  {
   "cell_type": "code",
   "execution_count": 22,
   "id": "62b3c06a",
   "metadata": {},
   "outputs": [],
   "source": [
    "# Standardize the features\n",
    "scaler = StandardScaler()\n",
    "clustering_data = scaler.fit_transform(clustering_features)"
   ]
  },
  {
   "cell_type": "code",
   "execution_count": 23,
   "id": "bea3b3dc",
   "metadata": {
    "scrolled": false
   },
   "outputs": [
    {
     "name": "stderr",
     "output_type": "stream",
     "text": [
      "C:\\Users\\omnia\\anaconda3\\Lib\\site-packages\\sklearn\\cluster\\_kmeans.py:870: FutureWarning: The default value of `n_init` will change from 10 to 'auto' in 1.4. Set the value of `n_init` explicitly to suppress the warning\n",
      "  warnings.warn(\n",
      "C:\\Users\\omnia\\anaconda3\\Lib\\site-packages\\sklearn\\cluster\\_kmeans.py:1382: UserWarning: KMeans is known to have a memory leak on Windows with MKL, when there are less chunks than available threads. You can avoid it by setting the environment variable OMP_NUM_THREADS=2.\n",
      "  warnings.warn(\n"
     ]
    },
    {
     "data": {
      "text/html": [
       "<style>#sk-container-id-1 {color: black;background-color: white;}#sk-container-id-1 pre{padding: 0;}#sk-container-id-1 div.sk-toggleable {background-color: white;}#sk-container-id-1 label.sk-toggleable__label {cursor: pointer;display: block;width: 100%;margin-bottom: 0;padding: 0.3em;box-sizing: border-box;text-align: center;}#sk-container-id-1 label.sk-toggleable__label-arrow:before {content: \"▸\";float: left;margin-right: 0.25em;color: #696969;}#sk-container-id-1 label.sk-toggleable__label-arrow:hover:before {color: black;}#sk-container-id-1 div.sk-estimator:hover label.sk-toggleable__label-arrow:before {color: black;}#sk-container-id-1 div.sk-toggleable__content {max-height: 0;max-width: 0;overflow: hidden;text-align: left;background-color: #f0f8ff;}#sk-container-id-1 div.sk-toggleable__content pre {margin: 0.2em;color: black;border-radius: 0.25em;background-color: #f0f8ff;}#sk-container-id-1 input.sk-toggleable__control:checked~div.sk-toggleable__content {max-height: 200px;max-width: 100%;overflow: auto;}#sk-container-id-1 input.sk-toggleable__control:checked~label.sk-toggleable__label-arrow:before {content: \"▾\";}#sk-container-id-1 div.sk-estimator input.sk-toggleable__control:checked~label.sk-toggleable__label {background-color: #d4ebff;}#sk-container-id-1 div.sk-label input.sk-toggleable__control:checked~label.sk-toggleable__label {background-color: #d4ebff;}#sk-container-id-1 input.sk-hidden--visually {border: 0;clip: rect(1px 1px 1px 1px);clip: rect(1px, 1px, 1px, 1px);height: 1px;margin: -1px;overflow: hidden;padding: 0;position: absolute;width: 1px;}#sk-container-id-1 div.sk-estimator {font-family: monospace;background-color: #f0f8ff;border: 1px dotted black;border-radius: 0.25em;box-sizing: border-box;margin-bottom: 0.5em;}#sk-container-id-1 div.sk-estimator:hover {background-color: #d4ebff;}#sk-container-id-1 div.sk-parallel-item::after {content: \"\";width: 100%;border-bottom: 1px solid gray;flex-grow: 1;}#sk-container-id-1 div.sk-label:hover label.sk-toggleable__label {background-color: #d4ebff;}#sk-container-id-1 div.sk-serial::before {content: \"\";position: absolute;border-left: 1px solid gray;box-sizing: border-box;top: 0;bottom: 0;left: 50%;z-index: 0;}#sk-container-id-1 div.sk-serial {display: flex;flex-direction: column;align-items: center;background-color: white;padding-right: 0.2em;padding-left: 0.2em;position: relative;}#sk-container-id-1 div.sk-item {position: relative;z-index: 1;}#sk-container-id-1 div.sk-parallel {display: flex;align-items: stretch;justify-content: center;background-color: white;position: relative;}#sk-container-id-1 div.sk-item::before, #sk-container-id-1 div.sk-parallel-item::before {content: \"\";position: absolute;border-left: 1px solid gray;box-sizing: border-box;top: 0;bottom: 0;left: 50%;z-index: -1;}#sk-container-id-1 div.sk-parallel-item {display: flex;flex-direction: column;z-index: 1;position: relative;background-color: white;}#sk-container-id-1 div.sk-parallel-item:first-child::after {align-self: flex-end;width: 50%;}#sk-container-id-1 div.sk-parallel-item:last-child::after {align-self: flex-start;width: 50%;}#sk-container-id-1 div.sk-parallel-item:only-child::after {width: 0;}#sk-container-id-1 div.sk-dashed-wrapped {border: 1px dashed gray;margin: 0 0.4em 0.5em 0.4em;box-sizing: border-box;padding-bottom: 0.4em;background-color: white;}#sk-container-id-1 div.sk-label label {font-family: monospace;font-weight: bold;display: inline-block;line-height: 1.2em;}#sk-container-id-1 div.sk-label-container {text-align: center;}#sk-container-id-1 div.sk-container {/* jupyter's `normalize.less` sets `[hidden] { display: none; }` but bootstrap.min.css set `[hidden] { display: none !important; }` so we also need the `!important` here to be able to override the default hidden behavior on the sphinx rendered scikit-learn.org. See: https://github.com/scikit-learn/scikit-learn/issues/21755 */display: inline-block !important;position: relative;}#sk-container-id-1 div.sk-text-repr-fallback {display: none;}</style><div id=\"sk-container-id-1\" class=\"sk-top-container\"><div class=\"sk-text-repr-fallback\"><pre>KMeans(n_clusters=3, random_state=42)</pre><b>In a Jupyter environment, please rerun this cell to show the HTML representation or trust the notebook. <br />On GitHub, the HTML representation is unable to render, please try loading this page with nbviewer.org.</b></div><div class=\"sk-container\" hidden><div class=\"sk-item\"><div class=\"sk-estimator sk-toggleable\"><input class=\"sk-toggleable__control sk-hidden--visually\" id=\"sk-estimator-id-1\" type=\"checkbox\" checked><label for=\"sk-estimator-id-1\" class=\"sk-toggleable__label sk-toggleable__label-arrow\">KMeans</label><div class=\"sk-toggleable__content\"><pre>KMeans(n_clusters=3, random_state=42)</pre></div></div></div></div></div>"
      ],
      "text/plain": [
       "KMeans(n_clusters=3, random_state=42)"
      ]
     },
     "execution_count": 23,
     "metadata": {},
     "output_type": "execute_result"
    }
   ],
   "source": [
    "# Determine the number of clusters \n",
    "kmeans = KMeans(n_clusters=3, random_state=42)\n",
    "kmeans.fit(clustering_data)"
   ]
  },
  {
   "cell_type": "code",
   "execution_count": 24,
   "id": "ff2ade27",
   "metadata": {
    "scrolled": true
   },
   "outputs": [
    {
     "name": "stdout",
     "output_type": "stream",
     "text": [
      "Cluster Centers (Age) in Original Scale: [43.4125     23.00726496 22.24550898]\n"
     ]
    }
   ],
   "source": [
    "original_centers = scaler.inverse_transform(kmeans.cluster_centers_)\n",
    "age_centers_original = original_centers[:, 0]  \n",
    "print(\"Cluster Centers (Age) in Original Scale:\", age_centers_original)"
   ]
  },
  {
   "cell_type": "code",
   "execution_count": 25,
   "id": "483c7e7a",
   "metadata": {},
   "outputs": [],
   "source": [
    "SM2_data['Cluster'] = kmeans.labels_"
   ]
  },
  {
   "cell_type": "code",
   "execution_count": 26,
   "id": "078a855d",
   "metadata": {},
   "outputs": [
    {
     "name": "stdout",
     "output_type": "stream",
     "text": [
      "count    481.00000\n",
      "mean      26.13659\n",
      "std        9.91511\n",
      "min       13.00000\n",
      "25%       21.00000\n",
      "50%       22.00000\n",
      "75%       26.00000\n",
      "max       91.00000\n",
      "Name: Age, dtype: float64\n"
     ]
    }
   ],
   "source": [
    "print(SM2_data['Age'].describe())"
   ]
  },
  {
   "cell_type": "code",
   "execution_count": 27,
   "id": "6fdff6d4",
   "metadata": {},
   "outputs": [],
   "source": [
    "# Define the age ranges for the clusters\n",
    "def assign_age_group(age):\n",
    "    if age <= 25:\n",
    "        return 'Young Age'\n",
    "    elif 26 <= age <= 55:\n",
    "        return 'Middle Age'\n",
    "    else:\n",
    "        return 'Older Age'"
   ]
  },
  {
   "cell_type": "code",
   "execution_count": 28,
   "id": "c762a230",
   "metadata": {},
   "outputs": [],
   "source": [
    "SM2_data['Cluster_Label'] = SM2_data['Age'].apply(assign_age_group)\n"
   ]
  },
  {
   "cell_type": "code",
   "execution_count": 29,
   "id": "2bf5f49c",
   "metadata": {},
   "outputs": [
    {
     "data": {
      "image/png": "[encoded data removed]",
      "text/plain": [
       "<Figure size 1200x800 with 1 Axes>"
      ]
     },
     "metadata": {},
     "output_type": "display_data"
    }
   ],
   "source": [
    "# Visualize the clusters\n",
    "plt.figure(figsize=(12, 8))\n",
    "sns.scatterplot(x='Age', y='Average_Daily_SM_Time', hue='Cluster_Label', data=SM2_data, palette='Set2')\n",
    "plt.title('Clusters based on Age and Social Media Time')\n",
    "plt.show()"
   ]
  },
  {
   "cell_type": "code",
   "execution_count": 30,
   "id": "7cfd38c8",
   "metadata": {
    "scrolled": true
   },
   "outputs": [
    {
     "name": "stdout",
     "output_type": "stream",
     "text": [
      "               Age    Gender  Relationship_Status  Average_Daily_SM_Time  \\\n",
      "Cluster                                                                    \n",
      "0        43.412500  0.612500             1.987500               1.662500   \n",
      "1        23.007265  0.393162             2.448718               4.106838   \n",
      "2        22.245509  0.520958             2.473054               3.266467   \n",
      "\n",
      "         Use_Without_Purpose  Distraction_Level  Restlessness  \\\n",
      "Cluster                                                         \n",
      "0                   2.800000           2.187500      1.787500   \n",
      "1                   3.940171           3.901709      3.183761   \n",
      "2                   3.371257           3.047904      2.137725   \n",
      "\n",
      "         Distractibility_Scale  Worry_Scale  Concentration_Difficulty  \\\n",
      "Cluster                                                                 \n",
      "0                     2.387500     2.237500                  1.925000   \n",
      "1                     3.965812     4.435897                  4.123932   \n",
      "2                     2.946108     2.964072                  2.646707   \n",
      "\n",
      "         Comparison_Scale  Comparison_Feelings  Validation_Seeking  \\\n",
      "Cluster                                                              \n",
      "0                2.100000             2.662500            2.037500   \n",
      "1                3.414530             2.786325            2.713675   \n",
      "2                2.365269             2.814371            2.293413   \n",
      "\n",
      "         Depression_Frequency  Interest_Fluctuation  Sleep_Issues  Cluster  \n",
      "Cluster                                                                     \n",
      "0                    1.862500              2.137500      2.212500      0.0  \n",
      "1                    4.179487              3.807692      3.841880      1.0  \n",
      "2                    2.628743              2.772455      2.778443      2.0  \n"
     ]
    }
   ],
   "source": [
    "# Analyze cluster characteristics\n",
    "numeric_columns = SM2_data.select_dtypes(include=[np.number]).columns\n",
    "cluster_summary = SM2_data.groupby('Cluster')[numeric_columns].mean()\n",
    "print(cluster_summary)"
   ]
  },
  {
   "cell_type": "code",
   "execution_count": 31,
   "id": "ec6117a8",
   "metadata": {
    "scrolled": true
   },
   "outputs": [
    {
     "name": "stdout",
     "output_type": "stream",
     "text": [
      "count    481.000000\n",
      "mean       3.408524\n",
      "std        1.590319\n",
      "min        0.500000\n",
      "25%        2.500000\n",
      "50%        3.500000\n",
      "75%        4.500000\n",
      "max        5.500000\n",
      "Name: Average_Daily_SM_Time, dtype: float64\n"
     ]
    }
   ],
   "source": [
    "print(SM2_data['Average_Daily_SM_Time'].describe())"
   ]
  },
  {
   "cell_type": "code",
   "execution_count": 32,
   "id": "862ae07a",
   "metadata": {},
   "outputs": [
    {
     "name": "stderr",
     "output_type": "stream",
     "text": [
      "C:\\Users\\omnia\\anaconda3\\Lib\\site-packages\\seaborn\\_oldcore.py:1119: FutureWarning: use_inf_as_na option is deprecated and will be removed in a future version. Convert inf values to NaN before operating instead.\n",
      "  with pd.option_context('mode.use_inf_as_na', True):\n"
     ]
    },
    {
     "data": {
      "image/png": "[encoded data removed]",
      "text/plain": [
       "<Figure size 640x480 with 1 Axes>"
      ]
     },
     "metadata": {},
     "output_type": "display_data"
    }
   ],
   "source": [
    "sns.histplot(SM2_data['Average_Daily_SM_Time'], kde=True)\n",
    "plt.title('Distribution of Average Daily Social Media Time')\n",
    "plt.show()"
   ]
  },
  {
   "cell_type": "code",
   "execution_count": 33,
   "id": "d490d261",
   "metadata": {},
   "outputs": [
    {
     "data": {
      "text/plain": [
       "Age                         float64\n",
       "Gender                        int32\n",
       "Relationship_Status           int32\n",
       "Average_Daily_SM_Time       float64\n",
       "Use_Without_Purpose           int64\n",
       "Distraction_Level             int64\n",
       "Restlessness                  int64\n",
       "Distractibility_Scale         int64\n",
       "Worry_Scale                   int64\n",
       "Concentration_Difficulty      int64\n",
       "Comparison_Scale              int64\n",
       "Comparison_Feelings           int64\n",
       "Validation_Seeking            int64\n",
       "Depression_Frequency          int64\n",
       "Interest_Fluctuation          int64\n",
       "Sleep_Issues                  int64\n",
       "Cluster                       int32\n",
       "Cluster_Label                object\n",
       "dtype: object"
      ]
     },
     "execution_count": 33,
     "metadata": {},
     "output_type": "execute_result"
    }
   ],
   "source": [
    "SM2_data.dtypes"
   ]
  },
  {
   "cell_type": "code",
   "execution_count": 34,
   "id": "69872299",
   "metadata": {},
   "outputs": [
    {
     "name": "stdout",
     "output_type": "stream",
     "text": [
      "count    481.00000\n",
      "mean      26.13659\n",
      "std        9.91511\n",
      "min       13.00000\n",
      "25%       21.00000\n",
      "50%       22.00000\n",
      "75%       26.00000\n",
      "max       91.00000\n",
      "Name: Age, dtype: float64\n"
     ]
    },
    {
     "name": "stderr",
     "output_type": "stream",
     "text": [
      "C:\\Users\\omnia\\anaconda3\\Lib\\site-packages\\seaborn\\_oldcore.py:1119: FutureWarning: use_inf_as_na option is deprecated and will be removed in a future version. Convert inf values to NaN before operating instead.\n",
      "  with pd.option_context('mode.use_inf_as_na', True):\n"
     ]
    },
    {
     "data": {
      "image/png": "[encoded data removed]",
      "text/plain": [
       "<Figure size 640x480 with 1 Axes>"
      ]
     },
     "metadata": {},
     "output_type": "display_data"
    }
   ],
   "source": [
    "print(SM2_data['Age'].describe())\n",
    "sns.histplot(SM2_data['Age'], kde=True)\n",
    "plt.title('Age Distribution')\n",
    "plt.show()"
   ]
  },
  {
   "cell_type": "code",
   "execution_count": null,
   "id": "fe763b76",
   "metadata": {},
   "outputs": [],
   "source": []
  },
  {
   "cell_type": "code",
   "execution_count": null,
   "id": "ba61ec79",
   "metadata": {},
   "outputs": [],
   "source": []
  },
  {
   "cell_type": "code",
   "execution_count": null,
   "id": "2aaa2102",
   "metadata": {},
   "outputs": [],
   "source": []
  },
  {
   "cell_type": "code",
   "execution_count": null,
   "id": "38cd6d6d",
   "metadata": {},
   "outputs": [],
   "source": []
  },
  {
   "cell_type": "code",
   "execution_count": null,
   "id": "57132956",
   "metadata": {},
   "outputs": [],
   "source": []
  },
  {
   "cell_type": "code",
   "execution_count": null,
   "id": "dfb8b289",
   "metadata": {},
   "outputs": [],
   "source": []
  }
 ],
 "metadata": {
  "kernelspec": {
   "display_name": "Python 3 (ipykernel)",
   "language": "python",
   "name": "python3"
  },
  "language_info": {
   "codemirror_mode": {
    "name": "ipython",
    "version": 3
   },
   "file_extension": ".py",
   "mimetype": "text/x-python",
   "name": "python",
   "nbconvert_exporter": "python",
   "pygments_lexer": "ipython3",
   "version": "3.11.7"
  }
 },
 "nbformat": 4,
 "nbformat_minor": 5
}
